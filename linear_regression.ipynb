{
 "cells": [
  {
   "cell_type": "markdown",
   "id": "9021c45d",
   "metadata": {},
   "source": [
    "# Linear Regression Project\n",
    "###### Willi Kristen\n",
    "\n",
    "#### Herangehensweise an ein lineares Regressionsproblem:\n",
    "## Prediction of Diamond Prices\n",
    "\n",
    "###### Data: https://www.kaggle.com/shivam2503/diamonds"
   ]
  },
  {
   "cell_type": "markdown",
   "id": "fb018ce2",
   "metadata": {},
   "source": [
    "###### --------------------------------------------------------------------------------------------------------------------------------------------------------------------------------------------------------------------------------------"
   ]
  },
  {
   "cell_type": "code",
   "execution_count": 72,
   "id": "c2a645b3",
   "metadata": {},
   "outputs": [],
   "source": [
    "import numpy as np\n",
    "import pandas as pd\n",
    "import matplotlib.pyplot as plt\n",
    "import seaborn as sns\n",
    "import statsmodels.api as sm\n",
    "from sklearn.model_selection import train_test_split, KFold, cross_val_score\n",
    "from sklearn.linear_model import LinearRegression\n",
    "from sklearn.preprocessing import PolynomialFeatures, StandardScaler"
   ]
  },
  {
   "cell_type": "markdown",
   "id": "bfeb6037",
   "metadata": {},
   "source": [
    "###### Laden der Trainingsdaten:"
   ]
  },
  {
   "cell_type": "code",
   "execution_count": 3,
   "id": "4ad2a8a5",
   "metadata": {},
   "outputs": [
    {
     "name": "stdout",
     "output_type": "stream",
     "text": [
      "<class 'pandas.core.frame.DataFrame'>\n",
      "Int64Index: 53940 entries, 1 to 53940\n",
      "Data columns (total 10 columns):\n",
      " #   Column   Non-Null Count  Dtype  \n",
      "---  ------   --------------  -----  \n",
      " 0   carat    53940 non-null  float64\n",
      " 1   cut      53940 non-null  object \n",
      " 2   color    53940 non-null  object \n",
      " 3   clarity  53940 non-null  object \n",
      " 4   depth    53940 non-null  float64\n",
      " 5   table    53940 non-null  float64\n",
      " 6   price    53940 non-null  int64  \n",
      " 7   x        53940 non-null  float64\n",
      " 8   y        53940 non-null  float64\n",
      " 9   z        53940 non-null  float64\n",
      "dtypes: float64(6), int64(1), object(3)\n",
      "memory usage: 4.5+ MB\n"
     ]
    }
   ],
   "source": [
    "df = pd.read_csv(\"diamonds.csv\", index_col=\"Unnamed: 0\")\n",
    "\n",
    "df.info()"
   ]
  },
  {
   "cell_type": "markdown",
   "id": "0e950718",
   "metadata": {},
   "source": [
    "###### Datenaufbereitung:\n",
    "#### -Umwandeln der kategorischen- in numerische Werte (Dummyvariablen)\n",
    "#### -Filtern redundanter Dummyvariablen"
   ]
  },
  {
   "cell_type": "code",
   "execution_count": 4,
   "id": "9cd6adbc",
   "metadata": {},
   "outputs": [
    {
     "name": "stdout",
     "output_type": "stream",
     "text": [
      "<class 'pandas.core.frame.DataFrame'>\n",
      "Int64Index: 53940 entries, 1 to 53940\n",
      "Data columns (total 24 columns):\n",
      " #   Column        Non-Null Count  Dtype  \n",
      "---  ------        --------------  -----  \n",
      " 0   carat         53940 non-null  float64\n",
      " 1   depth         53940 non-null  float64\n",
      " 2   table         53940 non-null  float64\n",
      " 3   price         53940 non-null  int64  \n",
      " 4   x             53940 non-null  float64\n",
      " 5   y             53940 non-null  float64\n",
      " 6   z             53940 non-null  float64\n",
      " 7   cut_Fair      53940 non-null  uint8  \n",
      " 8   cut_Good      53940 non-null  uint8  \n",
      " 9   cut_Ideal     53940 non-null  uint8  \n",
      " 10  cut_Premium   53940 non-null  uint8  \n",
      " 11  color_D       53940 non-null  uint8  \n",
      " 12  color_E       53940 non-null  uint8  \n",
      " 13  color_F       53940 non-null  uint8  \n",
      " 14  color_G       53940 non-null  uint8  \n",
      " 15  color_H       53940 non-null  uint8  \n",
      " 16  color_I       53940 non-null  uint8  \n",
      " 17  clarity_IF    53940 non-null  uint8  \n",
      " 18  clarity_SI1   53940 non-null  uint8  \n",
      " 19  clarity_SI2   53940 non-null  uint8  \n",
      " 20  clarity_VS1   53940 non-null  uint8  \n",
      " 21  clarity_VS2   53940 non-null  uint8  \n",
      " 22  clarity_VVS1  53940 non-null  uint8  \n",
      " 23  clarity_VVS2  53940 non-null  uint8  \n",
      "dtypes: float64(6), int64(1), uint8(17)\n",
      "memory usage: 4.2 MB\n"
     ]
    }
   ],
   "source": [
    "df = pd.get_dummies(df).drop([\"cut_Very Good\", \"color_J\", \"clarity_I1\"], axis=1)\n",
    "df.info()"
   ]
  },
  {
   "cell_type": "code",
   "execution_count": 5,
   "id": "85618712",
   "metadata": {},
   "outputs": [
    {
     "data": {
      "text/html": [
       "<div>\n",
       "<style scoped>\n",
       "    .dataframe tbody tr th:only-of-type {\n",
       "        vertical-align: middle;\n",
       "    }\n",
       "\n",
       "    .dataframe tbody tr th {\n",
       "        vertical-align: top;\n",
       "    }\n",
       "\n",
       "    .dataframe thead th {\n",
       "        text-align: right;\n",
       "    }\n",
       "</style>\n",
       "<table border=\"1\" class=\"dataframe\">\n",
       "  <thead>\n",
       "    <tr style=\"text-align: right;\">\n",
       "      <th></th>\n",
       "      <th>carat</th>\n",
       "      <th>depth</th>\n",
       "      <th>table</th>\n",
       "      <th>price</th>\n",
       "      <th>x</th>\n",
       "      <th>y</th>\n",
       "      <th>z</th>\n",
       "      <th>cut_Fair</th>\n",
       "      <th>cut_Good</th>\n",
       "      <th>cut_Ideal</th>\n",
       "      <th>...</th>\n",
       "      <th>color_G</th>\n",
       "      <th>color_H</th>\n",
       "      <th>color_I</th>\n",
       "      <th>clarity_IF</th>\n",
       "      <th>clarity_SI1</th>\n",
       "      <th>clarity_SI2</th>\n",
       "      <th>clarity_VS1</th>\n",
       "      <th>clarity_VS2</th>\n",
       "      <th>clarity_VVS1</th>\n",
       "      <th>clarity_VVS2</th>\n",
       "    </tr>\n",
       "  </thead>\n",
       "  <tbody>\n",
       "    <tr>\n",
       "      <th>1</th>\n",
       "      <td>0.23</td>\n",
       "      <td>61.5</td>\n",
       "      <td>55.0</td>\n",
       "      <td>326</td>\n",
       "      <td>3.95</td>\n",
       "      <td>3.98</td>\n",
       "      <td>2.43</td>\n",
       "      <td>0</td>\n",
       "      <td>0</td>\n",
       "      <td>1</td>\n",
       "      <td>...</td>\n",
       "      <td>0</td>\n",
       "      <td>0</td>\n",
       "      <td>0</td>\n",
       "      <td>0</td>\n",
       "      <td>0</td>\n",
       "      <td>1</td>\n",
       "      <td>0</td>\n",
       "      <td>0</td>\n",
       "      <td>0</td>\n",
       "      <td>0</td>\n",
       "    </tr>\n",
       "    <tr>\n",
       "      <th>2</th>\n",
       "      <td>0.21</td>\n",
       "      <td>59.8</td>\n",
       "      <td>61.0</td>\n",
       "      <td>326</td>\n",
       "      <td>3.89</td>\n",
       "      <td>3.84</td>\n",
       "      <td>2.31</td>\n",
       "      <td>0</td>\n",
       "      <td>0</td>\n",
       "      <td>0</td>\n",
       "      <td>...</td>\n",
       "      <td>0</td>\n",
       "      <td>0</td>\n",
       "      <td>0</td>\n",
       "      <td>0</td>\n",
       "      <td>1</td>\n",
       "      <td>0</td>\n",
       "      <td>0</td>\n",
       "      <td>0</td>\n",
       "      <td>0</td>\n",
       "      <td>0</td>\n",
       "    </tr>\n",
       "    <tr>\n",
       "      <th>3</th>\n",
       "      <td>0.23</td>\n",
       "      <td>56.9</td>\n",
       "      <td>65.0</td>\n",
       "      <td>327</td>\n",
       "      <td>4.05</td>\n",
       "      <td>4.07</td>\n",
       "      <td>2.31</td>\n",
       "      <td>0</td>\n",
       "      <td>1</td>\n",
       "      <td>0</td>\n",
       "      <td>...</td>\n",
       "      <td>0</td>\n",
       "      <td>0</td>\n",
       "      <td>0</td>\n",
       "      <td>0</td>\n",
       "      <td>0</td>\n",
       "      <td>0</td>\n",
       "      <td>1</td>\n",
       "      <td>0</td>\n",
       "      <td>0</td>\n",
       "      <td>0</td>\n",
       "    </tr>\n",
       "    <tr>\n",
       "      <th>4</th>\n",
       "      <td>0.29</td>\n",
       "      <td>62.4</td>\n",
       "      <td>58.0</td>\n",
       "      <td>334</td>\n",
       "      <td>4.20</td>\n",
       "      <td>4.23</td>\n",
       "      <td>2.63</td>\n",
       "      <td>0</td>\n",
       "      <td>0</td>\n",
       "      <td>0</td>\n",
       "      <td>...</td>\n",
       "      <td>0</td>\n",
       "      <td>0</td>\n",
       "      <td>1</td>\n",
       "      <td>0</td>\n",
       "      <td>0</td>\n",
       "      <td>0</td>\n",
       "      <td>0</td>\n",
       "      <td>1</td>\n",
       "      <td>0</td>\n",
       "      <td>0</td>\n",
       "    </tr>\n",
       "    <tr>\n",
       "      <th>5</th>\n",
       "      <td>0.31</td>\n",
       "      <td>63.3</td>\n",
       "      <td>58.0</td>\n",
       "      <td>335</td>\n",
       "      <td>4.34</td>\n",
       "      <td>4.35</td>\n",
       "      <td>2.75</td>\n",
       "      <td>0</td>\n",
       "      <td>1</td>\n",
       "      <td>0</td>\n",
       "      <td>...</td>\n",
       "      <td>0</td>\n",
       "      <td>0</td>\n",
       "      <td>0</td>\n",
       "      <td>0</td>\n",
       "      <td>0</td>\n",
       "      <td>1</td>\n",
       "      <td>0</td>\n",
       "      <td>0</td>\n",
       "      <td>0</td>\n",
       "      <td>0</td>\n",
       "    </tr>\n",
       "  </tbody>\n",
       "</table>\n",
       "<p>5 rows × 24 columns</p>\n",
       "</div>"
      ],
      "text/plain": [
       "   carat  depth  table  price     x     y     z  cut_Fair  cut_Good  \\\n",
       "1   0.23   61.5   55.0    326  3.95  3.98  2.43         0         0   \n",
       "2   0.21   59.8   61.0    326  3.89  3.84  2.31         0         0   \n",
       "3   0.23   56.9   65.0    327  4.05  4.07  2.31         0         1   \n",
       "4   0.29   62.4   58.0    334  4.20  4.23  2.63         0         0   \n",
       "5   0.31   63.3   58.0    335  4.34  4.35  2.75         0         1   \n",
       "\n",
       "   cut_Ideal  ...  color_G  color_H  color_I  clarity_IF  clarity_SI1  \\\n",
       "1          1  ...        0        0        0           0            0   \n",
       "2          0  ...        0        0        0           0            1   \n",
       "3          0  ...        0        0        0           0            0   \n",
       "4          0  ...        0        0        1           0            0   \n",
       "5          0  ...        0        0        0           0            0   \n",
       "\n",
       "   clarity_SI2  clarity_VS1  clarity_VS2  clarity_VVS1  clarity_VVS2  \n",
       "1            1            0            0             0             0  \n",
       "2            0            0            0             0             0  \n",
       "3            0            1            0             0             0  \n",
       "4            0            0            1             0             0  \n",
       "5            1            0            0             0             0  \n",
       "\n",
       "[5 rows x 24 columns]"
      ]
     },
     "execution_count": 5,
     "metadata": {},
     "output_type": "execute_result"
    }
   ],
   "source": [
    "df.head()"
   ]
  },
  {
   "cell_type": "markdown",
   "id": "76b11a20",
   "metadata": {},
   "source": [
    "#### Frage 1: Welche Features weisen in Bezug zu unserer Target Variablen eine hohe Korrelation auf?\n",
    "\n",
    "###### Überblick über Korrelationen durch einen Heat-Map Plot:"
   ]
  },
  {
   "cell_type": "code",
   "execution_count": 26,
   "id": "c8ee55ab",
   "metadata": {},
   "outputs": [
    {
     "data": {
      "text/plain": [
       "<AxesSubplot:>"
      ]
     },
     "execution_count": 26,
     "metadata": {},
     "output_type": "execute_result"
    },
    {
     "data": {
      "image/png": "[encoded data removed]",
      "text/plain": [
       "<Figure size 576x504 with 2 Axes>"
      ]
     },
     "metadata": {},
     "output_type": "display_data"
    }
   ],
   "source": [
    "sns.heatmap(df.corr(), square=True, cmap=\"RdYlGn\")"
   ]
  },
  {
   "cell_type": "code",
   "execution_count": 7,
   "id": "ee6f7be2",
   "metadata": {},
   "outputs": [],
   "source": [
    "X_carat = df[[\"x\", \"y\", \"z\"]]\n",
    "df = df.drop([\"depth\", \"table\", \"x\", \"y\", \"z\", \"cut_Premium\", \"color_I\"], axis=1)"
   ]
  },
  {
   "cell_type": "markdown",
   "id": "6ebd6049",
   "metadata": {},
   "source": [
    "###### Aufsplitten des Trainingssets in X (Features) und y (target):"
   ]
  },
  {
   "cell_type": "code",
   "execution_count": 8,
   "id": "0d4832cd",
   "metadata": {},
   "outputs": [],
   "source": [
    "X = df.drop(\"price\", axis=1); y = df[\"price\"].values"
   ]
  },
  {
   "cell_type": "code",
   "execution_count": 9,
   "id": "ac99515c",
   "metadata": {},
   "outputs": [],
   "source": [
    "X_train, X_test, y_train, y_test = train_test_split(X, y, random_state=21, test_size=0.2)"
   ]
  },
  {
   "cell_type": "markdown",
   "id": "bcc803cb",
   "metadata": {},
   "source": [
    "###### Anlegen unseres Modells (LinearRegression):"
   ]
  },
  {
   "cell_type": "code",
   "execution_count": 10,
   "id": "8308c47a",
   "metadata": {},
   "outputs": [],
   "source": [
    "lr = LinearRegression()"
   ]
  },
  {
   "cell_type": "markdown",
   "id": "19895cd4",
   "metadata": {},
   "source": [
    "###### Ein erster Überblick, über die Genauigkeit des Modells, angewandt auf X, mit Hilfe einer Cross-Validation:"
   ]
  },
  {
   "cell_type": "code",
   "execution_count": 11,
   "id": "44a1b8c3",
   "metadata": {},
   "outputs": [
    {
     "name": "stdout",
     "output_type": "stream",
     "text": [
      "train_score: 0.914182106275302\n"
     ]
    }
   ],
   "source": [
    "kf =KFold(shuffle=True, random_state=21)\n",
    "train_scores = cross_val_score(lr, X, y, cv=kf)\n",
    "print(f'train_score: {np.mean(train_scores)}')"
   ]
  },
  {
   "cell_type": "markdown",
   "id": "d465474a",
   "metadata": {},
   "source": [
    "###### Prüfen, ob wir das vorläufige Ergebniss mit polynomial-transformierten Features signifikant verbessern können (Antwort: Ja):"
   ]
  },
  {
   "cell_type": "code",
   "execution_count": 12,
   "id": "df15dc33",
   "metadata": {},
   "outputs": [
    {
     "name": "stdout",
     "output_type": "stream",
     "text": [
      "poly_train_score: 0.9593407357597264\n"
     ]
    }
   ],
   "source": [
    "pf = PolynomialFeatures(include_bias=False)\n",
    "pf.fit(X)\n",
    "\n",
    "X_polynomial = pf.transform(X)\n",
    "\n",
    "poly_train_scores = cross_val_score(lr, X_polynomial, y, cv=kf)\n",
    "print(f'poly_train_score: {np.mean(poly_train_scores)}')"
   ]
  },
  {
   "cell_type": "markdown",
   "id": "d4107435",
   "metadata": {},
   "source": [
    "###### Prüfen, ob wir das vorläufige Ergebniss signifikant verbessern können, indem wir die Daten skalieren (Antwort: Nein):"
   ]
  },
  {
   "cell_type": "code",
   "execution_count": 13,
   "id": "7ee405f4",
   "metadata": {},
   "outputs": [
    {
     "name": "stdout",
     "output_type": "stream",
     "text": [
      "scaled_train_score: 0.9594240869087847\n"
     ]
    }
   ],
   "source": [
    "scaler = StandardScaler()\n",
    "scaler.fit(X_polynomial)\n",
    "X_polynomial_scaled = scaler.transform(X_polynomial)\n",
    "\n",
    "scaled_train_scores = cross_val_score(lr, X_polynomial_scaled, y, cv=kf)\n",
    "print(f'scaled_train_score: {np.mean(scaled_train_scores)}')"
   ]
  },
  {
   "cell_type": "markdown",
   "id": "800b9c70",
   "metadata": {},
   "source": [
    "###### Polynomiale Transformation, der Trainings- und Testfeatures, sowie das anpassen des Modells an unsere Trainingsdaten:"
   ]
  },
  {
   "cell_type": "code",
   "execution_count": 22,
   "id": "cb1234e3",
   "metadata": {},
   "outputs": [
    {
     "data": {
      "text/plain": [
       "array([-7.13024285e+03,  1.03567558e+15, -5.50627509e+14, -1.86211769e+14,\n",
       "        6.81568244e+14,  6.73190113e+14,  2.04004717e+14, -1.02584178e+15,\n",
       "        4.79722575e+12, -4.20320656e+14,  6.61582574e+14, -1.74521029e+15,\n",
       "       -1.94006999e+14, -6.38840782e+14, -2.22729334e+15, -1.00130644e+15,\n",
       "        2.77475000e+03, -1.29403516e+03, -2.31812500e+02,  3.77750000e+02,\n",
       "        3.78131250e+03,  3.60929688e+03,  3.50646875e+03,  2.71012500e+03,\n",
       "        1.41198438e+03,  1.18258984e+04,  7.68478125e+03,  5.94715625e+03,\n",
       "        9.41725000e+03,  8.80275000e+03,  1.09186562e+04,  1.05517188e+04,\n",
       "       -1.03567558e+15, -5.62846133e+13, -2.08134551e+14, -6.04780762e+02,\n",
       "       -4.73718262e+02, -5.03173828e+02, -4.77679688e+02, -3.06501953e+02,\n",
       "       -1.76540686e+03, -2.53109375e+02, -2.11921875e+02, -5.76347168e+02,\n",
       "       -3.89738281e+02, -2.97067139e+02, -4.92335938e+02,  5.50627509e+14,\n",
       "        2.32295606e+13, -1.46828125e+02, -4.38437500e+01, -1.19396484e+02,\n",
       "       -1.19443359e+02,  3.10585938e+01, -4.03106934e+02, -1.89375000e+02,\n",
       "       -1.67710938e+02, -2.16902344e+02, -3.06572266e+02, -3.75665039e+02,\n",
       "       -2.77929688e+02,  1.86211769e+14,  2.16718750e+01,  2.89843750e+01,\n",
       "        5.44023438e+01,  3.47187500e+01,  3.39218750e+01, -3.10562500e+02,\n",
       "       -3.33734375e+02, -3.61484375e+02, -3.29421875e+02, -3.44515625e+02,\n",
       "       -3.60570312e+02, -3.78343750e+02, -6.81568244e+14,  3.74365689e+12,\n",
       "        1.12010018e+12,  1.98966532e+12, -1.34903936e+12,  6.68058398e+03,\n",
       "        2.19548438e+03,  1.08787891e+03,  3.24053125e+03,  3.01682031e+03,\n",
       "        3.93440625e+03,  3.93613281e+03, -6.73190113e+14, -1.35368379e+11,\n",
       "        2.10175005e+11,  3.86574450e+09,  4.09162891e+03,  2.06197266e+03,\n",
       "        1.02285938e+03,  3.11190625e+03,  2.85601562e+03,  3.79384570e+03,\n",
       "        3.66437500e+03, -2.04004717e+14, -1.43149744e+07,  2.36100273e+09,\n",
       "        3.78360938e+03,  1.95384961e+03,  8.94375000e+02,  3.03691797e+03,\n",
       "        2.92319531e+03,  3.65019531e+03,  3.49029688e+03,  1.02584178e+15,\n",
       "        0.00000000e+00,  2.70875000e+03,  1.42581250e+03,  6.02312500e+02,\n",
       "        2.47631250e+03,  2.24159375e+03,  2.75356250e+03,  2.72768750e+03,\n",
       "       -4.79722576e+12,  1.00235547e+03,  4.50718750e+02, -1.31656250e+02,\n",
       "        8.51054688e+02,  7.19250000e+02,  1.09483984e+03,  9.99539062e+02,\n",
       "        4.20320656e+14,  0.00000000e+00,  0.00000000e+00,  0.00000000e+00,\n",
       "        0.00000000e+00,  0.00000000e+00,  0.00000000e+00, -6.61582574e+14,\n",
       "        0.00000000e+00,  0.00000000e+00,  0.00000000e+00,  0.00000000e+00,\n",
       "        0.00000000e+00,  1.74521029e+15,  0.00000000e+00,  0.00000000e+00,\n",
       "        0.00000000e+00,  0.00000000e+00,  1.94006999e+14,  0.00000000e+00,\n",
       "        0.00000000e+00,  0.00000000e+00,  6.38840782e+14,  0.00000000e+00,\n",
       "        0.00000000e+00,  2.22729334e+15,  0.00000000e+00,  1.00130644e+15])"
      ]
     },
     "execution_count": 22,
     "metadata": {},
     "output_type": "execute_result"
    }
   ],
   "source": [
    "X_train_poly = pf.transform(X_train)\n",
    "X_test_poly = pf.transform(X_test)\n",
    "\n",
    "lr.fit(X_train_poly, y_train)\n",
    "lr.coef_ # Ausgabe, der berechneten Koeffizienten, für diese lineare Regression:"
   ]
  },
  {
   "cell_type": "markdown",
   "id": "376fd2c7",
   "metadata": {},
   "source": [
    "#### Frage 2: Können wir den Preis eines Diamanten, anhand der Features, mit Hilfe der linearen Regression bestimmen?\n",
    "\n",
    "###### Vorhersage der Target-Variablen, auf Grundlage der Testfeatures:"
   ]
  },
  {
   "cell_type": "code",
   "execution_count": 31,
   "id": "6991c570",
   "metadata": {},
   "outputs": [
    {
     "data": {
      "text/plain": [
       "array([-1.79413557e+01,  3.39628045e+03,  9.84780453e+02, ...,\n",
       "        1.82649680e+04,  2.61053045e+03,  2.51499203e+02])"
      ]
     },
     "execution_count": 31,
     "metadata": {},
     "output_type": "execute_result"
    }
   ],
   "source": [
    "predictions = lr.predict(X_test_poly)\n",
    "predictions"
   ]
  },
  {
   "cell_type": "markdown",
   "id": "c4a4512d",
   "metadata": {},
   "source": [
    "###### Akkuratessescore für unser Modell. (Bestimmtheitsmaß: R²)"
   ]
  },
  {
   "cell_type": "code",
   "execution_count": 17,
   "id": "bb49dc45",
   "metadata": {},
   "outputs": [
    {
     "data": {
      "text/plain": [
       "0.9610428447366909"
      ]
     },
     "execution_count": 17,
     "metadata": {},
     "output_type": "execute_result"
    }
   ],
   "source": [
    "lr.score(X_test_poly, y_test)"
   ]
  },
  {
   "cell_type": "markdown",
   "id": "f59e2616",
   "metadata": {},
   "source": [
    "#### Antwort: Wir können den Preis, mit unserem Modell, mit einer Genauigkeit von 96,1% bestimmen!"
   ]
  },
  {
   "cell_type": "markdown",
   "id": "94a0ee23",
   "metadata": {},
   "source": [
    "###### Betrachtung der erzielten Ergebnisse unseres Modells in einem:\n",
    "   ###### 1. QQ-Plot\n",
    "   ###### 2. Histogramm der prozentualen Abweichung von y"
   ]
  },
  {
   "cell_type": "code",
   "execution_count": 62,
   "id": "3fe7b222",
   "metadata": {},
   "outputs": [
    {
     "data": {
      "text/html": [
       "<div>\n",
       "<style scoped>\n",
       "    .dataframe tbody tr th:only-of-type {\n",
       "        vertical-align: middle;\n",
       "    }\n",
       "\n",
       "    .dataframe tbody tr th {\n",
       "        vertical-align: top;\n",
       "    }\n",
       "\n",
       "    .dataframe thead th {\n",
       "        text-align: right;\n",
       "    }\n",
       "</style>\n",
       "<table border=\"1\" class=\"dataframe\">\n",
       "  <thead>\n",
       "    <tr style=\"text-align: right;\">\n",
       "      <th></th>\n",
       "      <th>Actual_Price</th>\n",
       "      <th>Model_Prediction</th>\n",
       "      <th>Difference_(abs)</th>\n",
       "      <th>Difference_(%)</th>\n",
       "    </tr>\n",
       "  </thead>\n",
       "  <tbody>\n",
       "    <tr>\n",
       "      <th>0</th>\n",
       "      <td>544</td>\n",
       "      <td>-18.0</td>\n",
       "      <td>562.0</td>\n",
       "      <td>103.0</td>\n",
       "    </tr>\n",
       "    <tr>\n",
       "      <th>1</th>\n",
       "      <td>2400</td>\n",
       "      <td>3396.0</td>\n",
       "      <td>-996.0</td>\n",
       "      <td>-42.0</td>\n",
       "    </tr>\n",
       "    <tr>\n",
       "      <th>2</th>\n",
       "      <td>1046</td>\n",
       "      <td>985.0</td>\n",
       "      <td>61.0</td>\n",
       "      <td>6.0</td>\n",
       "    </tr>\n",
       "    <tr>\n",
       "      <th>3</th>\n",
       "      <td>683</td>\n",
       "      <td>610.0</td>\n",
       "      <td>73.0</td>\n",
       "      <td>11.0</td>\n",
       "    </tr>\n",
       "    <tr>\n",
       "      <th>4</th>\n",
       "      <td>4020</td>\n",
       "      <td>4088.0</td>\n",
       "      <td>-68.0</td>\n",
       "      <td>-2.0</td>\n",
       "    </tr>\n",
       "  </tbody>\n",
       "</table>\n",
       "</div>"
      ],
      "text/plain": [
       "   Actual_Price  Model_Prediction  Difference_(abs)  Difference_(%)\n",
       "0           544             -18.0             562.0           103.0\n",
       "1          2400            3396.0            -996.0           -42.0\n",
       "2          1046             985.0              61.0             6.0\n",
       "3           683             610.0              73.0            11.0\n",
       "4          4020            4088.0             -68.0            -2.0"
      ]
     },
     "execution_count": 62,
     "metadata": {},
     "output_type": "execute_result"
    }
   ],
   "source": [
    "predictions = np.rint(predictions)\n",
    "results_dict={\"Actual_Price\": y_test, \n",
    "              \"Model_Prediction\": predictions, \n",
    "              \"Difference_(abs)\": y_test - predictions, \n",
    "              \"Difference_(%)\": np.rint((y_test - predictions) / y_test * 100)}\n",
    "results_df = pd.DataFrame(results_dict)\n",
    "results_df.head()"
   ]
  },
  {
   "cell_type": "code",
   "execution_count": 74,
   "id": "409de083",
   "metadata": {},
   "outputs": [
    {
     "data": {
      "image/png": "[encoded data removed]",
      "text/plain": [
       "<Figure size 576x504 with 1 Axes>"
      ]
     },
     "metadata": {},
     "output_type": "display_data"
    }
   ],
   "source": [
    "sm.qqplot(results_df[\"Actual_Price\"], line ='r')\n",
    "plt.show()"
   ]
  },
  {
   "cell_type": "code",
   "execution_count": 70,
   "id": "bb0890e2",
   "metadata": {},
   "outputs": [
    {
     "data": {
      "image/png": "[encoded data removed]",
      "text/plain": [
       "<Figure size 576x504 with 1 Axes>"
      ]
     },
     "metadata": {},
     "output_type": "display_data"
    }
   ],
   "source": [
    "plt.hist(results_df[\"Difference_(%)\"], bins=24, range=(-120, 120))  \n",
    "plt.ylabel('Quantity')\n",
    "plt.xlabel('Percentage');"
   ]
  }
 ],
 "metadata": {
  "kernelspec": {
   "display_name": "Python 3",
   "language": "python",
   "name": "python3"
  },
  "language_info": {
   "codemirror_mode": {
    "name": "ipython",
    "version": 3
   },
   "file_extension": ".py",
   "mimetype": "text/x-python",
   "name": "python",
   "nbconvert_exporter": "python",
   "pygments_lexer": "ipython3",
   "version": "3.8.10"
  }
 },
 "nbformat": 4,
 "nbformat_minor": 5
}
